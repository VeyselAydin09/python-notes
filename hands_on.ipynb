{
 "cells": [
  {
   "cell_type": "code",
   "execution_count": 1,
   "metadata": {},
   "outputs": [
    {
     "name": "stdout",
     "output_type": "stream",
     "text": [
      "{'a', 'w', 'g', 'o', 't', 'n', 'h', 's', 'i'}\n",
      "{'g', 'w', 'o', 'l', 't', 'h', 'i', 'n', 'e'}\n"
     ]
    }
   ],
   "source": [
    "usa = \"washingthon\"\n",
    "new_zeland = \"wellingthon\"\n",
    "my_set1 = set(usa)\n",
    "my_set2 = set(new_zeland)\n",
    "\n",
    "\n",
    "print(my_set1)\n",
    "print(my_set2)"
   ]
  }
 ],
 "metadata": {
  "kernelspec": {
   "display_name": "Python 3",
   "language": "python",
   "name": "python3"
  },
  "language_info": {
   "codemirror_mode": {
    "name": "ipython",
    "version": 3
   },
   "file_extension": ".py",
   "mimetype": "text/x-python",
   "name": "python",
   "nbconvert_exporter": "python",
   "pygments_lexer": "ipython3",
   "version": "3.11.1"
  },
  "orig_nbformat": 4
 },
 "nbformat": 4,
 "nbformat_minor": 2
}
